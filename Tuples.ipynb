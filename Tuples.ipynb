{
 "cells": [
  {
   "cell_type": "markdown",
   "id": "c6756ecd",
   "metadata": {},
   "source": [
    "* Tuples"
   ]
  },
  {
   "cell_type": "code",
   "execution_count": 1,
   "id": "943f52c0",
   "metadata": {},
   "outputs": [
    {
     "name": "stdout",
     "output_type": "stream",
     "text": [
      "[]\n",
      "()\n"
     ]
    }
   ],
   "source": [
    "#Creating tuple\n",
    "#Empty tuple and list\n",
    "empty_tuple=tuple()\n",
    "empty_list=list()\n",
    "\n",
    "print(empty_list)\n",
    "print(empty_tuple)"
   ]
  },
  {
   "cell_type": "code",
   "execution_count": 1,
   "id": "fa661f39",
   "metadata": {},
   "outputs": [
    {
     "name": "stdout",
     "output_type": "stream",
     "text": [
      "(1, 2, 3, 4, 5, 6)\n",
      "[12, 3, 45, 8, 87]\n"
     ]
    }
   ],
   "source": [
    "#Add elements\n",
    "\n",
    "#coverting list into tuple\n",
    "numbers=tuple([1,2,3,4,5,6])\n",
    "#converting tuple into list\n",
    "number1=list((12,3,45,8,87))\n",
    "\n",
    "print(numbers)\n",
    "print(number1)"
   ]
  },
  {
   "cell_type": "code",
   "execution_count": 2,
   "id": "ea0171ac",
   "metadata": {},
   "outputs": [
    {
     "name": "stdout",
     "output_type": "stream",
     "text": [
      "3\n"
     ]
    }
   ],
   "source": [
    "#Accessing tuple elements\n",
    "\n",
    "print(numbers[2])"
   ]
  },
  {
   "cell_type": "markdown",
   "id": "b9b075b2",
   "metadata": {},
   "source": [
    "* Slicing same as list "
   ]
  },
  {
   "cell_type": "code",
   "execution_count": 7,
   "id": "b43a2692",
   "metadata": {},
   "outputs": [
    {
     "name": "stdout",
     "output_type": "stream",
     "text": [
      "(1, 2, 3, 4, 5, 6, 'Shruti', 2, 5, True)\n",
      "('Shruti', 2, 5, True, 'Shruti', 2, 5, True, 'Shruti', 2, 5, True)\n"
     ]
    }
   ],
   "source": [
    "#Tuple operation\n",
    "\n",
    "#Concatenation\n",
    "\n",
    "mixed_tuple=(\"Shruti\",2,5,True)\n",
    "concat=numbers + mixed_tuple\n",
    "print(concat)\n",
    "\n",
    "#Repeated\n",
    "\n",
    "repeat=mixed_tuple *3\n",
    "print(repeat)"
   ]
  },
  {
   "cell_type": "code",
   "execution_count": 21,
   "id": "604b92cd",
   "metadata": {},
   "outputs": [
    {
     "name": "stdout",
     "output_type": "stream",
     "text": [
      "(7, 8, 9)\n",
      "8\n"
     ]
    }
   ],
   "source": [
    "#Nested tuple\n",
    "\n",
    "tup=(1,2,3),(4,5,6),(7,8,9)\n",
    "print(tup[2])\n",
    "print(tup[2][1])"
   ]
  },
  {
   "cell_type": "code",
   "execution_count": 22,
   "id": "97576dff",
   "metadata": {},
   "outputs": [
    {
     "name": "stdout",
     "output_type": "stream",
     "text": [
      "1 2 3 \n",
      "4 5 6 \n",
      "7 8 9 \n"
     ]
    }
   ],
   "source": [
    "#Iterating over nested tuple\n",
    "\n",
    "for sub_tuple in tup:\n",
    "    for item in sub_tuple:\n",
    "        print(item,end=\" \")\n",
    "    print()"
   ]
  }
 ],
 "metadata": {
  "kernelspec": {
   "display_name": "Python 3",
   "language": "python",
   "name": "python3"
  },
  "language_info": {
   "codemirror_mode": {
    "name": "ipython",
    "version": 3
   },
   "file_extension": ".py",
   "mimetype": "text/x-python",
   "name": "python",
   "nbconvert_exporter": "python",
   "pygments_lexer": "ipython3",
   "version": "3.12.0"
  }
 },
 "nbformat": 4,
 "nbformat_minor": 5
}
