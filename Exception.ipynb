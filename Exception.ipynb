{
 "cells": [
  {
   "cell_type": "markdown",
   "id": "cbe78198",
   "metadata": {},
   "source": [
    "* Exception Handling in Python "
   ]
  },
  {
   "cell_type": "code",
   "execution_count": 6,
   "id": "9c7fead3",
   "metadata": {},
   "outputs": [
    {
     "name": "stdout",
     "output_type": "stream",
     "text": [
      "The variable has not been assigned\n",
      "name 'v' is not defined\n"
     ]
    }
   ],
   "source": [
    "# Exception try, except block\n",
    "\n",
    "try:\n",
    "    a=b\n",
    "except:\n",
    "    print(\"The variable has not been assigned\")\n",
    "\n",
    "try:\n",
    "    d=v\n",
    "except NameError as ex:\n",
    "    print(ex)\n"
   ]
  },
  {
   "cell_type": "code",
   "execution_count": 9,
   "id": "70b5938b",
   "metadata": {},
   "outputs": [
    {
     "name": "stdout",
     "output_type": "stream",
     "text": [
      "Enter denominator greater than 0 \n"
     ]
    }
   ],
   "source": [
    "try:\n",
    "    num=int(input(\"Enter no:\"))\n",
    "    result=10/num\n",
    "except ValueError:\n",
    "    print(\"This is not a valid no\")\n",
    "except ZeroDivisionError:\n",
    "    print(\"Enter denominator greater than 0 \")\n",
    "except Exception as ex:\n",
    "    print(ex)"
   ]
  },
  {
   "cell_type": "code",
   "execution_count": 10,
   "id": "7373732c",
   "metadata": {},
   "outputs": [
    {
     "name": "stdout",
     "output_type": "stream",
     "text": [
      "The result is 1.25\n",
      "exception complete\n"
     ]
    }
   ],
   "source": [
    "#Try, except, else, block, finally\n",
    "\n",
    "try:\n",
    "    num=int(input(\"Enter no:\"))\n",
    "    result=10/num\n",
    "except ValueError:\n",
    "    print(\"This is not a valid no\")\n",
    "except ZeroDivisionError:\n",
    "    print(\"Enter denominator greater than 0 \")\n",
    "except Exception as ex:\n",
    "    print(ex)\n",
    "else:\n",
    "    print(f\"The result is {result}\")\n",
    "finally:\n",
    "    print(\"exception complete\")"
   ]
  },
  {
   "cell_type": "code",
   "execution_count": 16,
   "id": "2585718b",
   "metadata": {},
   "outputs": [
    {
     "name": "stdout",
     "output_type": "stream",
     "text": [
      "hello world\n",
      "This is a new line \n",
      "\n",
      "File Closed\n"
     ]
    }
   ],
   "source": [
    "#File handling and exception handling\n",
    "try:\n",
    "    file = open(\"example.txt\", 'r')\n",
    "    content = file.read()\n",
    "    print(content)\n",
    "\n",
    "except FileNotFoundError:\n",
    "    print(\"The file does not exist\")\n",
    "\n",
    "finally:\n",
    "    if 'file' in locals() and not file.closed:\n",
    "        file.close()\n",
    "        print(\"File Closed\")"
   ]
  },
  {
   "cell_type": "code",
   "execution_count": null,
   "id": "ff43acc7",
   "metadata": {},
   "outputs": [],
   "source": []
  }
 ],
 "metadata": {
  "kernelspec": {
   "display_name": "Python 3",
   "language": "python",
   "name": "python3"
  },
  "language_info": {
   "codemirror_mode": {
    "name": "ipython",
    "version": 3
   },
   "file_extension": ".py",
   "mimetype": "text/x-python",
   "name": "python",
   "nbconvert_exporter": "python",
   "pygments_lexer": "ipython3",
   "version": "3.12.0"
  }
 },
 "nbformat": 4,
 "nbformat_minor": 5
}
