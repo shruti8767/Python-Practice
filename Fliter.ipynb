{
 "cells": [
  {
   "cell_type": "markdown",
   "id": "c9f09685",
   "metadata": {},
   "source": [
    "* The Filter() function in python"
   ]
  },
  {
   "cell_type": "code",
   "execution_count": 8,
   "id": "3317989e",
   "metadata": {},
   "outputs": [
    {
     "data": {
      "text/plain": [
       "<filter at 0x28c10d2f670>"
      ]
     },
     "execution_count": 8,
     "metadata": {},
     "output_type": "execute_result"
    }
   ],
   "source": [
    "def even(num):\n",
    "    if num%2==0:\n",
    "        return True\n",
    "\n",
    "lst=[1,2,3,4,5,6,7,8,9,10]\n",
    "filter(even,lst)"
   ]
  },
  {
   "cell_type": "code",
   "execution_count": 9,
   "id": "e3169008",
   "metadata": {},
   "outputs": [
    {
     "name": "stdout",
     "output_type": "stream",
     "text": [
      "[6, 7, 8]\n"
     ]
    }
   ],
   "source": [
    "#Filter with a lambda function\n",
    "\n",
    "numbers=[1,2,3,4,5,6,7,8]\n",
    "greater_than_five=list(filter(lambda x:x>5, numbers))\n",
    "\n",
    "print(greater_than_five)"
   ]
  },
  {
   "cell_type": "code",
   "execution_count": 12,
   "id": "5e231b3b",
   "metadata": {},
   "outputs": [
    {
     "name": "stdout",
     "output_type": "stream",
     "text": [
      "[6, 8]\n"
     ]
    }
   ],
   "source": [
    "#Multiple conditions\n",
    "\n",
    "even_greater_than=list(filter(lambda x:x>5 and x%2==0, numbers))\n",
    "print(even_greater_than)"
   ]
  },
  {
   "cell_type": "code",
   "execution_count": null,
   "id": "cb4b96bf",
   "metadata": {},
   "outputs": [
    {
     "ename": "SyntaxError",
     "evalue": "invalid syntax. Perhaps you forgot a comma? (1867561392.py, line 4)",
     "output_type": "error",
     "traceback": [
      "  \u001b[36mCell\u001b[39m\u001b[36m \u001b[39m\u001b[32mIn[14]\u001b[39m\u001b[32m, line 4\u001b[39m\n\u001b[31m    \u001b[39m\u001b[31m{'name':\"shruti\",'age':21}\u001b[39m\n    ^\n\u001b[31mSyntaxError\u001b[39m\u001b[31m:\u001b[39m invalid syntax. Perhaps you forgot a comma?\n"
     ]
    }
   ],
   "source": [
    "#Check if the age is greater than 25 in dictionaries\n",
    "\n",
    "people=[\n",
    "    {'name':\"shruti\",'age':21},\n",
    "    {'name':\"Harshali\",'age':26},\n",
    "    {'name':\"Nandini\",'age':34}\n",
    "]\n",
    "def age_greater_than_25(person):\n",
    "    return person['age']>25\n",
    "\n",
    "list(filter(age_greater_than_25, people))"
   ]
  },
  {
   "cell_type": "code",
   "execution_count": null,
   "id": "ab777914",
   "metadata": {},
   "outputs": [],
   "source": []
  }
 ],
 "metadata": {
  "kernelspec": {
   "display_name": "Python 3",
   "language": "python",
   "name": "python3"
  },
  "language_info": {
   "codemirror_mode": {
    "name": "ipython",
    "version": 3
   },
   "file_extension": ".py",
   "mimetype": "text/x-python",
   "name": "python",
   "nbconvert_exporter": "python",
   "pygments_lexer": "ipython3",
   "version": "3.12.0"
  }
 },
 "nbformat": 4,
 "nbformat_minor": 5
}
