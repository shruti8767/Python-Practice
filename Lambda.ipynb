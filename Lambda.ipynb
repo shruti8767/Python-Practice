{
 "cells": [
  {
   "cell_type": "markdown",
   "id": "a6b47904",
   "metadata": {},
   "source": [
    "* Lambda Functions in Python"
   ]
  },
  {
   "cell_type": "code",
   "execution_count": null,
   "id": "fc165cf6",
   "metadata": {},
   "outputs": [
    {
     "name": "stdout",
     "output_type": "stream",
     "text": [
      "8\n",
      "True\n",
      "[4, 25, 36, 64, 81, 4, 49]\n"
     ]
    }
   ],
   "source": [
    "#Syntax:- lambda arguments : expression\n",
    "\n",
    "addition= lambda a,b : a+b\n",
    "print(addition(2,6))\n",
    "\n",
    "even= lambda num : num%2==0\n",
    "print(even(8))\n",
    "\n",
    "#with Map()\n",
    "numbers=[2,5,6,8,9,2,7]\n",
    "mul=list(map(lambda x:x**2,numbers))\n",
    "print(mul)"
   ]
  },
  {
   "cell_type": "code",
   "execution_count": null,
   "id": "1b6cdfa5",
   "metadata": {},
   "outputs": [],
   "source": []
  }
 ],
 "metadata": {
  "kernelspec": {
   "display_name": "Python 3",
   "language": "python",
   "name": "python3"
  },
  "language_info": {
   "codemirror_mode": {
    "name": "ipython",
    "version": 3
   },
   "file_extension": ".py",
   "mimetype": "text/x-python",
   "name": "python",
   "nbconvert_exporter": "python",
   "pygments_lexer": "ipython3",
   "version": "3.12.0"
  }
 },
 "nbformat": 4,
 "nbformat_minor": 5
}
