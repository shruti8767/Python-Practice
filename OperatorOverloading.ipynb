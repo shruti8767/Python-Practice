{
 "cells": [
  {
   "cell_type": "markdown",
   "id": "56a0e633",
   "metadata": {},
   "source": [
    "# Operator Overloading \n",
    "- Allows you to define the behavior of operators(+,-,*,etc) for custom objects. You achieve this by override specific magic methods in your class.\n",
    "\n"
   ]
  },
  {
   "cell_type": "code",
   "execution_count": null,
   "id": "6c384eae",
   "metadata": {},
   "outputs": [],
   "source": [
    "## Common operator overloading magic methods\n",
    "'''\n",
    "__add__(self,other)\n",
    "__sub__(self,other)\n",
    "__mul__(self,other)\n",
    "__truediv__(self,other)\n",
    "__eq__(self,other)\n",
    "__lt__(self,other)\n",
    "__gt__\n",
    "'''"
   ]
  },
  {
   "cell_type": "code",
   "execution_count": 3,
   "id": "90832751",
   "metadata": {},
   "outputs": [
    {
     "name": "stdout",
     "output_type": "stream",
     "text": [
      "Vector(6,11)\n",
      "Vector(-2,-5)\n",
      "Vector(8,24)\n",
      "Vector(0.5,0.375)\n",
      "Vector(False,False)\n",
      "Vector(True,True)\n"
     ]
    }
   ],
   "source": [
    "class Vector:\n",
    "    def __init__(self,x,y):\n",
    "        self.x=x\n",
    "        self.y=y\n",
    "\n",
    "    def __add__(self,other):\n",
    "        return Vector(self.x+other.x,self.y+other.y)\n",
    "    \n",
    "    def __sub__(self,other):\n",
    "        return Vector(self.x-other.x,self.y-other.y)\n",
    "    \n",
    "    def __mul__(self,other):\n",
    "        return Vector(self.x*other.x,self.y*other.y)\n",
    "    \n",
    "    def __truediv__(self,other):\n",
    "        return Vector(self.x/other.x,self.y/other.y)\n",
    "    \n",
    "    def __eq__(self,other):\n",
    "        return Vector(self.x==other.x,self.y==other.y)\n",
    "    \n",
    "    def __lt__(self,other):\n",
    "        return Vector(self.x<other.x,self.y<other.y)\n",
    "    \n",
    "    def __repr__(self):\n",
    "        return f\"Vector({self.x},{self.y})\"\n",
    "\n",
    "v1=Vector(2,3)\n",
    "v2=Vector(4,8)\n",
    "\n",
    "print(v1+v2)\n",
    "print(v1-v2)\n",
    "print(v1*v2)\n",
    "print(v1/v2)\n",
    "print(v1==v2)\n",
    "print(v1<v2)"
   ]
  },
  {
   "cell_type": "code",
   "execution_count": 8,
   "id": "2d5ab031",
   "metadata": {},
   "outputs": [
    {
     "name": "stdout",
     "output_type": "stream",
     "text": [
      "3 + 7i\n",
      "1 + -1i\n",
      "-10 + 14i\n",
      "False + Falsei\n"
     ]
    }
   ],
   "source": [
    "#Overloading opeartor for complex numbers\n",
    "\n",
    "class ComplexNumber:\n",
    "    def __init__(self,real,img):\n",
    "        self.real=real\n",
    "        self.img=img\n",
    "\n",
    "    def __add__(self,other):\n",
    "        return ComplexNumber(self.real+other.real,self.img+other.img)\n",
    "    \n",
    "    def __sub__(self,other):\n",
    "        return ComplexNumber(self.real-other.real,self.img-other.img)\n",
    "    \n",
    "    def __mul__(self,other):\n",
    "        real_part=self.real*other.real-self.img*other.img\n",
    "        img_part=self.real*other.real+self.img*other.img\n",
    "        return ComplexNumber(real_part,img_part)\n",
    "    \n",
    "    def __eq__(self,other):\n",
    "        return ComplexNumber(self.real==other.real,self.img==other.img)\n",
    "    \n",
    "    def __repr__(self):\n",
    "        return f\"{self.real} + {self.img}i\"\n",
    "    \n",
    "#Create object of the complexnumber class\n",
    "c1=ComplexNumber(2,3)\n",
    "c2=ComplexNumber(1,4)\n",
    "\n",
    "#Use overloading operator\n",
    "print(c1 + c2)\n",
    "print(c1 - c2)\n",
    "print(c1 * c2)\n",
    "print(c1 == c2)"
   ]
  }
 ],
 "metadata": {
  "kernelspec": {
   "display_name": "Python 3",
   "language": "python",
   "name": "python3"
  },
  "language_info": {
   "codemirror_mode": {
    "name": "ipython",
    "version": 3
   },
   "file_extension": ".py",
   "mimetype": "text/x-python",
   "name": "python",
   "nbconvert_exporter": "python",
   "pygments_lexer": "ipython3",
   "version": "3.12.0"
  }
 },
 "nbformat": 4,
 "nbformat_minor": 5
}
