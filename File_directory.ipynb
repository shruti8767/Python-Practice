{
 "cells": [
  {
   "cell_type": "markdown",
   "id": "46ed6a4a",
   "metadata": {},
   "source": [
    "* File and Directory "
   ]
  },
  {
   "cell_type": "code",
   "execution_count": 4,
   "id": "b78f4943",
   "metadata": {},
   "outputs": [
    {
     "name": "stdout",
     "output_type": "stream",
     "text": [
      "Directory'Package'create\n"
     ]
    }
   ],
   "source": [
    "#Create a new package\n",
    "\n",
    "import os\n",
    "\n",
    "new_directory=\"Package\"\n",
    "os.mkdir(new_directory)\n",
    "print(f\"Directory'{new_directory}'create\")"
   ]
  },
  {
   "cell_type": "code",
   "execution_count": 5,
   "id": "37b3ce2a",
   "metadata": {},
   "outputs": [
    {
     "name": "stdout",
     "output_type": "stream",
     "text": [
      "['1.1Variables.ipynb', 'Calculator.py', 'Collect_User_Feedback.py', 'Count_Frequency.py', 'DataType.py', 'designation.txt', 'Dictionaries.ipynb', 'Elif_Statement.py', 'Email_Validation.py', 'example.bin', 'example.csv', 'example.txt', 'Factorial.py', 'File_directory.ipynb', 'File_Operation.ipynb', 'Fliter.ipynb', 'Functions.ipynb', 'Lambda.ipynb', 'Library.py', 'List.ipynb', 'Loops.py', 'Manage_inventory.py', 'Map.ipynb', 'Modules_packages.py', 'nested_cond.py', 'Operator.py', 'Package', 'Packages', 'Package_pract.py', 'Palindrome.py', 'Pass_Strength_Checker.py', 'Practice_ex_Dict.py', 'PrimeNo.py', 'sample.txt', 'Sets.ipynb', 'Shopping_Cart.py', 'source.txt', 'Student_Grades.py', 'tempCodeRunnerFile.py', 'Temperature_Conversion.py', 'test_dir', 'TicketPrice.py', 'To_DO_List.py', 'Tuples.ipynb', 'venv']\n"
     ]
    }
   ],
   "source": [
    "#Listing files and directories\n",
    "\n",
    "items=os.listdir('.')\n",
    "print(items)"
   ]
  },
  {
   "cell_type": "code",
   "execution_count": 7,
   "id": "2b7fe29e",
   "metadata": {},
   "outputs": [
    {
     "name": "stdout",
     "output_type": "stream",
     "text": [
      "folder\\file.txt\n",
      "d:\\Data Engineer\\Python\\folder\\file.txt\n"
     ]
    }
   ],
   "source": [
    "#Joining Paths\n",
    "\n",
    "dir_name=\"folder\"\n",
    "file_name='file.txt'\n",
    "full_path=os.path.join(dir_name,file_name)\n",
    "print(full_path)\n",
    "\n",
    "full_path=os.path.join(os.getcwd(),dir_name,file_name)\n",
    "print(full_path)"
   ]
  },
  {
   "cell_type": "code",
   "execution_count": 9,
   "id": "4b220739",
   "metadata": {},
   "outputs": [
    {
     "name": "stdout",
     "output_type": "stream",
     "text": [
      "The path 'example.txt'exists\n"
     ]
    }
   ],
   "source": [
    "path='example.txt'\n",
    "if os.path.exists(path):\n",
    "    print(f\"The path '{path}'exists\")\n",
    "else:\n",
    "    print(f\"The path'{path}' doesnot exists\")\n"
   ]
  },
  {
   "cell_type": "code",
   "execution_count": 12,
   "id": "63732be2",
   "metadata": {},
   "outputs": [
    {
     "name": "stdout",
     "output_type": "stream",
     "text": [
      "the path'example.txt'is a file\n"
     ]
    }
   ],
   "source": [
    "#Checking if a path is a file or directory\n",
    "\n",
    "import os \n",
    "path=\"example.txt\"\n",
    "if os.path.isfile(path):\n",
    "    print(f\"the path'{path}'is a file\")\n",
    "elif os.path.isdir(path):\n",
    "    print(f\"the path'{path}' is a directory\")\n",
    "else:\n",
    "    print(f\"The path '{path}' is neither a file nor a directory\") "
   ]
  },
  {
   "cell_type": "code",
   "execution_count": 13,
   "id": "dfac5d65",
   "metadata": {},
   "outputs": [
    {
     "name": "stdout",
     "output_type": "stream",
     "text": [
      "d:\\Data Engineer\\Python\\example.txt\n"
     ]
    }
   ],
   "source": [
    "#Getting the absoulte file\n",
    "\n",
    "relative_path='example.txt'\n",
    "absolute_path=os.path.abspath(relative_path)\n",
    "print(absolute_path) "
   ]
  }
 ],
 "metadata": {
  "kernelspec": {
   "display_name": "Python 3",
   "language": "python",
   "name": "python3"
  },
  "language_info": {
   "codemirror_mode": {
    "name": "ipython",
    "version": 3
   },
   "file_extension": ".py",
   "mimetype": "text/x-python",
   "name": "python",
   "nbconvert_exporter": "python",
   "pygments_lexer": "ipython3",
   "version": "3.12.0"
  }
 },
 "nbformat": 4,
 "nbformat_minor": 5
}
