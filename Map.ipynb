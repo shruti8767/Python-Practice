{
 "cells": [
  {
   "cell_type": "markdown",
   "id": "01cd65b4",
   "metadata": {},
   "source": [
    "* The Map() function in python"
   ]
  },
  {
   "cell_type": "code",
   "execution_count": null,
   "id": "022532ee",
   "metadata": {},
   "outputs": [],
   "source": [
    "#Syntax\n",
    "\n",
    "map(function, iterable)"
   ]
  },
  {
   "cell_type": "code",
   "execution_count": 10,
   "id": "f382a4f4",
   "metadata": {},
   "outputs": [
    {
     "name": "stdout",
     "output_type": "stream",
     "text": [
      "[1, 9, 16, 25, 49, 1]\n"
     ]
    }
   ],
   "source": [
    "numbers = [1, 3, 4, 5, 7, 1]\n",
    "\n",
    "def square(number):\n",
    "  return number * number\n",
    "\n",
    "print(list(map(square, numbers)))"
   ]
  },
  {
   "cell_type": "code",
   "execution_count": 14,
   "id": "b869c967",
   "metadata": {},
   "outputs": [
    {
     "data": {
      "text/plain": [
       "[1, 9, 16, 25, 49, 1]"
      ]
     },
     "execution_count": 14,
     "metadata": {},
     "output_type": "execute_result"
    }
   ],
   "source": [
    "#Lambda func in map\n",
    "\n",
    "list(map(lambda x:x*x, numbers))"
   ]
  },
  {
   "cell_type": "code",
   "execution_count": 17,
   "id": "7a7df57e",
   "metadata": {},
   "outputs": [
    {
     "name": "stdout",
     "output_type": "stream",
     "text": [
      "[5, 7, 9]\n"
     ]
    }
   ],
   "source": [
    "#Map multiple iterables\n",
    "\n",
    "numbers1=[1,2,3]\n",
    "numbers2=[4,5,6]\n",
    "\n",
    "added_numbers= list (map(lambda x,y : x+y, numbers1,numbers2))\n",
    "\n",
    "print(added_numbers)"
   ]
  },
  {
   "cell_type": "code",
   "execution_count": 18,
   "id": "cf0d2aed",
   "metadata": {},
   "outputs": [
    {
     "name": "stdout",
     "output_type": "stream",
     "text": [
      "[1, 2, 3, 4, 5]\n"
     ]
    }
   ],
   "source": [
    "#Use map to convert a list of Strings to integers\n",
    "\n",
    "str_numbers=['1','2','3','4','5']\n",
    "int_numbers=list(map(int, str_numbers))\n",
    "\n",
    "print(int_numbers)"
   ]
  },
  {
   "cell_type": "code",
   "execution_count": 19,
   "id": "53fd5c0b",
   "metadata": {},
   "outputs": [
    {
     "name": "stdout",
     "output_type": "stream",
     "text": [
      "['APPLE', 'BANANA', 'CHERRY', 'WATERMELON']\n"
     ]
    }
   ],
   "source": [
    "#On inbulid func\n",
    "\n",
    "words=['apple','banana','cherry','watermelon']\n",
    "upper_word=list(map(str.upper,words))\n",
    "print(upper_word)"
   ]
  },
  {
   "cell_type": "code",
   "execution_count": 21,
   "id": "a4834ecb",
   "metadata": {},
   "outputs": [
    {
     "name": "stdout",
     "output_type": "stream",
     "text": [
      "['shruti', 'Harshali']\n"
     ]
    }
   ],
   "source": [
    "#Apply map() on dictionaries\n",
    "\n",
    "def get_name(person):\n",
    "    return person['name']\n",
    "people=[\n",
    "    {'name':'shruti','age':21},\n",
    "    {'name':'Harshali','age':26}\n",
    "]\n",
    "print(list(map(get_name,people)))"
   ]
  }
 ],
 "metadata": {
  "kernelspec": {
   "display_name": "Python 3",
   "language": "python",
   "name": "python3"
  },
  "language_info": {
   "codemirror_mode": {
    "name": "ipython",
    "version": 3
   },
   "file_extension": ".py",
   "mimetype": "text/x-python",
   "name": "python",
   "nbconvert_exporter": "python",
   "pygments_lexer": "ipython3",
   "version": "3.12.0"
  }
 },
 "nbformat": 4,
 "nbformat_minor": 5
}
