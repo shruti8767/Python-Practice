{
 "cells": [
  {
   "cell_type": "markdown",
   "id": "97eca6af",
   "metadata": {},
   "source": [
    "# Inheritance in Python"
   ]
  },
  {
   "cell_type": "code",
   "execution_count": null,
   "id": "c5ca8b36",
   "metadata": {},
   "outputs": [],
   "source": [
    "#Inheritance- (Single Inheritance)\n",
    "## Parent class\n",
    "\n",
    "class Car:\n",
    "    def __init__(self,windows,doors,enginetype):\n",
    "        self.windows=windows\n",
    "        self.doors=doors\n",
    "        self.enginetype=enginetype\n",
    "    \n",
    "    def drive(self):\n",
    "        print(f\"The person will drive the {self.enginetype} car\")\n"
   ]
  },
  {
   "cell_type": "code",
   "execution_count": 6,
   "id": "1c093cd8",
   "metadata": {},
   "outputs": [
    {
     "name": "stdout",
     "output_type": "stream",
     "text": [
      "The person will drive the Petrol car\n"
     ]
    }
   ],
   "source": [
    "car1=Car(4,5,'Petrol')\n",
    "car1.drive()"
   ]
  },
  {
   "cell_type": "code",
   "execution_count": 16,
   "id": "ba0d9447",
   "metadata": {},
   "outputs": [],
   "source": [
    "class Tesla(Car):\n",
    "    def __init__(self,windows,doors,enginetype,is_selfdriving):\n",
    "        super().__init__(windows,doors,enginetype)\n",
    "        self.is_selfdriving=is_selfdriving\n",
    "\n",
    "    def selfdrive(self):\n",
    "        print(f\"This car is a {self.is_selfdriving} with {self.windows} windows ,{self.doors} doors, and {self.enginetype} car.\")"
   ]
  },
  {
   "cell_type": "code",
   "execution_count": 19,
   "id": "68e3951a",
   "metadata": {},
   "outputs": [
    {
     "name": "stdout",
     "output_type": "stream",
     "text": [
      "This car is a Self drive with 4 windows ,4 doors, and Electric car.\n",
      "The person will drive the Electric car\n"
     ]
    }
   ],
   "source": [
    "tesla1=Tesla(4,4,'Electric','Self drive')\n",
    "tesla1.selfdrive()\n",
    "\n",
    "tesla1.drive()"
   ]
  },
  {
   "cell_type": "code",
   "execution_count": 21,
   "id": "deb6017d",
   "metadata": {},
   "outputs": [
    {
     "name": "stdout",
     "output_type": "stream",
     "text": [
      "Buddy say woof\n",
      "Owner:Krish\n"
     ]
    }
   ],
   "source": [
    "#Multiple Inheritance:- When a class inherits from more than one base class.\n",
    "\n",
    "#Base class 1\n",
    "\n",
    "class Animal:\n",
    "    def __init__(self, name):\n",
    "        self.name=name\n",
    "    def speak(self):\n",
    "        print(\"Subclass must implement this method\")\n",
    "\n",
    "#Base class 2\n",
    "class Pet:\n",
    "    def __init__(self,owner):\n",
    "        self.owner=owner\n",
    "\n",
    "#Derived class\n",
    "class Dog(Animal,Pet):\n",
    "    def __init__(self, name, owner):\n",
    "        Animal.__init__(self, name)\n",
    "        Pet.__init__(self,owner)\n",
    "    def speak(self):\n",
    "        return f\"{self.name} say woof\"\n",
    "\n",
    "#Create an object\n",
    "\n",
    "dog=Dog(\"Buddy\",\"Krish\")\n",
    "print(dog.speak())\n",
    "print(f\"Owner:{dog.owner}\")"
   ]
  },
  {
   "cell_type": "code",
   "execution_count": null,
   "id": "04378578",
   "metadata": {},
   "outputs": [],
   "source": []
  }
 ],
 "metadata": {
  "kernelspec": {
   "display_name": "Python 3",
   "language": "python",
   "name": "python3"
  },
  "language_info": {
   "codemirror_mode": {
    "name": "ipython",
    "version": 3
   },
   "file_extension": ".py",
   "mimetype": "text/x-python",
   "name": "python",
   "nbconvert_exporter": "python",
   "pygments_lexer": "ipython3",
   "version": "3.12.0"
  }
 },
 "nbformat": 4,
 "nbformat_minor": 5
}
