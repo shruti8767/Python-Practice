{
 "cells": [
  {
   "cell_type": "markdown",
   "id": "cf2e2272",
   "metadata": {},
   "source": [
    "* File operation - Read and Write"
   ]
  },
  {
   "cell_type": "code",
   "execution_count": 1,
   "id": "16056e0e",
   "metadata": {},
   "outputs": [
    {
     "name": "stdout",
     "output_type": "stream",
     "text": [
      "Hello Shruti!\n",
      "I love coding \n"
     ]
    }
   ],
   "source": [
    "#Read a whole file\n",
    "\n",
    "with open ('example.txt','r')as file:\n",
    "    content=file.read()\n",
    "    print(content)"
   ]
  },
  {
   "cell_type": "code",
   "execution_count": 11,
   "id": "fecb2fd2",
   "metadata": {},
   "outputs": [
    {
     "name": "stdout",
     "output_type": "stream",
     "text": [
      "hello world\n",
      "\n",
      "This is a new line \n",
      "\n"
     ]
    }
   ],
   "source": [
    "#Read a file line by line\n",
    "\n",
    "with open(\"example.txt\",'r')as file:\n",
    "    for line in file:\n",
    "        print(line)"
   ]
  },
  {
   "cell_type": "code",
   "execution_count": 2,
   "id": "3abfaaa4",
   "metadata": {},
   "outputs": [],
   "source": [
    "#Writing a file(overwriting)\n",
    "\n",
    "with open ('example.txt','w')as file:\n",
    "    file.write(\"hello world\")"
   ]
  },
  {
   "cell_type": "code",
   "execution_count": null,
   "id": "7be36d2b",
   "metadata": {},
   "outputs": [],
   "source": [
    "#Write a file (without overwriting)\n",
    " \n",
    "with open(\"example.txt\",'a')as file:\n",
    "    file.write(\" append operation\")"
   ]
  },
  {
   "cell_type": "code",
   "execution_count": 6,
   "id": "1677e529",
   "metadata": {},
   "outputs": [],
   "source": [
    "#writing a list of lines to a file\n",
    "\n",
    "lines=['firstline\\n','secondline\\n']\n",
    "with open('example.txt','a')as file:\n",
    "    file.writelines(lines)"
   ]
  },
  {
   "cell_type": "code",
   "execution_count": 8,
   "id": "dece8032",
   "metadata": {},
   "outputs": [],
   "source": [
    "#writing to a binary file\n",
    "\n",
    "data=b'\\x00\\x01\\x02\\x03'\n",
    "with open('example.bin','wb')as file:\n",
    "    file.write(data) "
   ]
  },
  {
   "cell_type": "code",
   "execution_count": 9,
   "id": "8a310921",
   "metadata": {},
   "outputs": [
    {
     "name": "stdout",
     "output_type": "stream",
     "text": [
      "b'\\x00\\x01\\x02\\x03'\n"
     ]
    }
   ],
   "source": [
    "#Reading a binary file\n",
    "\n",
    "with open('example.bin','rb')as file:\n",
    "    content=file.read()\n",
    "    print(content)"
   ]
  },
  {
   "cell_type": "code",
   "execution_count": 10,
   "id": "5084d00b",
   "metadata": {},
   "outputs": [],
   "source": [
    "#writing and then reading a file\n",
    "\n",
    "with open ('example.txt','wt')as file:\n",
    "    file.write(\"hello world\\n\")\n",
    "    file.write(\"This is a new line \\n\")"
   ]
  }
 ],
 "metadata": {
  "kernelspec": {
   "display_name": "Python 3",
   "language": "python",
   "name": "python3"
  },
  "language_info": {
   "codemirror_mode": {
    "name": "ipython",
    "version": 3
   },
   "file_extension": ".py",
   "mimetype": "text/x-python",
   "name": "python",
   "nbconvert_exporter": "python",
   "pygments_lexer": "ipython3",
   "version": "3.12.0"
  }
 },
 "nbformat": 4,
 "nbformat_minor": 5
}
