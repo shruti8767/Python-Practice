{
 "cells": [
  {
   "cell_type": "markdown",
   "id": "d9eef9e2",
   "metadata": {},
   "source": [
    "* Sets"
   ]
  },
  {
   "cell_type": "code",
   "execution_count": 12,
   "id": "4d3522d5",
   "metadata": {},
   "outputs": [
    {
     "name": "stdout",
     "output_type": "stream",
     "text": [
      "{1, 2, 3, 4, 5}\n",
      "set()\n"
     ]
    }
   ],
   "source": [
    "#Create set \n",
    "my_set={1,2,3,4,5}\n",
    "print(my_set)\n",
    "\n",
    "#Create empty set\n",
    "my_empty_set=set()\n",
    "print(my_empty_set)"
   ]
  },
  {
   "cell_type": "markdown",
   "id": "3c5c4ea8",
   "metadata": {},
   "source": [
    "* Basic sets operation"
   ]
  },
  {
   "cell_type": "code",
   "execution_count": 13,
   "id": "139daf61",
   "metadata": {},
   "outputs": [
    {
     "name": "stdout",
     "output_type": "stream",
     "text": [
      "{1, 2, 5, 6}\n",
      "{2, 5, 6}\n",
      "set()\n"
     ]
    }
   ],
   "source": [
    "#Aadding and Removing elements\n",
    "# Add\n",
    "my_set.add(6)\n",
    "\n",
    "# Remove\n",
    "my_set.remove(4)\n",
    "\n",
    "#Discard- didnt get error when element is not present in set but we want to remove that element\n",
    "my_set.discard(3)\n",
    "print(my_set)\n",
    "\n",
    "#Pop Method- pop first element \n",
    "my_set.pop()\n",
    "print(my_set)\n",
    "\n",
    "#Clear\n",
    "my_set.clear()\n",
    "print(my_set)\n"
   ]
  },
  {
   "cell_type": "markdown",
   "id": "0ed1063c",
   "metadata": {},
   "source": [
    "* Set membership test"
   ]
  },
  {
   "cell_type": "code",
   "execution_count": 14,
   "id": "d6c24ebe",
   "metadata": {},
   "outputs": [
    {
     "name": "stdout",
     "output_type": "stream",
     "text": [
      "True\n"
     ]
    }
   ],
   "source": [
    "my_set={1,2,3,4,5,6}\n",
    "print(3 in my_set)"
   ]
  },
  {
   "cell_type": "markdown",
   "id": "744ee37a",
   "metadata": {},
   "source": [
    "* Mathematical operation "
   ]
  },
  {
   "cell_type": "code",
   "execution_count": 1,
   "id": "d5f5143a",
   "metadata": {},
   "outputs": [
    {
     "name": "stdout",
     "output_type": "stream",
     "text": [
      "{1, 2, 3, 4, 5, 6, 7, 8, 9}\n",
      "{4, 5, 6}\n",
      "{1, 2, 3}\n",
      "{8, 9, 7}\n",
      "{1, 2, 3, 7, 8, 9}\n"
     ]
    }
   ],
   "source": [
    "set1={1,2,3,4,5,6}\n",
    "set2={4,5,6,7,8,9}\n",
    "\n",
    "#Union- combine\n",
    "union_set=set1.union(set2)\n",
    "print(union_set)\n",
    "\n",
    "#intersection- common element\n",
    "intersection_set=set1.intersection(set2)\n",
    "print(intersection_set)\n",
    "\n",
    "#intersection update\n",
    "'''set1.intersection_update(set2)\n",
    "print(set1)'''\n",
    "\n",
    "#Difference - common element remove\n",
    "set1={1,2,3,4,5,6}\n",
    "diff=set1.difference(set2)\n",
    "diff1=set2.difference(set1)\n",
    "print(diff)\n",
    "print(diff1)\n",
    "\n",
    "#Symmetric difference- unique element combines\n",
    "\n",
    "symm_diff=set1.symmetric_difference(set2)\n",
    "print(symm_diff)\n"
   ]
  },
  {
   "cell_type": "markdown",
   "id": "6f655b5e",
   "metadata": {},
   "source": [
    "* Sets methods"
   ]
  },
  {
   "cell_type": "code",
   "execution_count": 6,
   "id": "e160f739",
   "metadata": {},
   "outputs": [
    {
     "name": "stdout",
     "output_type": "stream",
     "text": [
      "True\n",
      "False\n",
      "False\n",
      "True\n"
     ]
    }
   ],
   "source": [
    "# is subset\n",
    "set1={4,5,6}\n",
    "print(set1.issubset(set2))\n",
    "print(set2.issubset(set1))\n",
    "\n",
    "# is superset\n",
    "print(set1.issuperset(set2))\n",
    "print(set2.issuperset(set1))"
   ]
  },
  {
   "cell_type": "code",
   "execution_count": null,
   "id": "c537198b",
   "metadata": {},
   "outputs": [
    {
     "data": {
      "text/plain": [
       "{1, 2, 3, 4, 5, 6}"
      ]
     },
     "execution_count": 7,
     "metadata": {},
     "output_type": "execute_result"
    }
   ],
   "source": [
    "#Find unique element from list\n",
    "\n",
    "lst=[1,2,3,3,4,4,5,6]\n",
    "set(lst)"
   ]
  },
  {
   "cell_type": "code",
   "execution_count": 11,
   "id": "a484c80a",
   "metadata": {},
   "outputs": [
    {
     "name": "stdout",
     "output_type": "stream",
     "text": [
      "['In', 'this', 'tutorial', 'tutorial', 'we', 'are', 'discussing', 'about', 'sets']\n",
      "{'are', 'In', 'sets', 'discussing', 'tutorial', 'we', 'this', 'about'}\n",
      "8\n"
     ]
    }
   ],
   "source": [
    "#Counting unique words in text\n",
    "\n",
    "text=\"In this tutorial tutorial we are discussing about sets\"\n",
    "words=text.split()\n",
    "print(words)\n",
    "\n",
    "# converting list of words to set to get unique words\n",
    "unique_set=set(words)\n",
    "print(unique_set)\n",
    "print(len(unique_set)) "
   ]
  }
 ],
 "metadata": {
  "kernelspec": {
   "display_name": "Python 3",
   "language": "python",
   "name": "python3"
  },
  "language_info": {
   "codemirror_mode": {
    "name": "ipython",
    "version": 3
   },
   "file_extension": ".py",
   "mimetype": "text/x-python",
   "name": "python",
   "nbconvert_exporter": "python",
   "pygments_lexer": "ipython3",
   "version": "3.12.0"
  }
 },
 "nbformat": 4,
 "nbformat_minor": 5
}
