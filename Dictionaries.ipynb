{
 "cells": [
  {
   "cell_type": "markdown",
   "id": "4e8bc63a",
   "metadata": {},
   "source": [
    "* Dictionaries"
   ]
  },
  {
   "cell_type": "code",
   "execution_count": 2,
   "id": "0eff8409",
   "metadata": {},
   "outputs": [
    {
     "name": "stdout",
     "output_type": "stream",
     "text": [
      "{}\n",
      "{}\n",
      "{'name': 'Shruti', 'age': 45, 'garde': 'A'}\n"
     ]
    }
   ],
   "source": [
    "# Creating dictionaries\n",
    "\n",
    "empty_dict={}\n",
    "empty_dict1=dict()\n",
    "\n",
    "student={\"name\":\"Shruti\",\"age\":45,\"garde\":\"A\"}\n",
    "\n",
    "print(empty_dict)\n",
    "print(empty_dict1)\n",
    "print(student)\n"
   ]
  },
  {
   "cell_type": "code",
   "execution_count": null,
   "id": "0eaec853",
   "metadata": {},
   "outputs": [
    {
     "name": "stdout",
     "output_type": "stream",
     "text": [
      "{'name': 'Chinu', 'age': 32}\n"
     ]
    }
   ],
   "source": [
    "#Error occur when write duplicate key- always take last time values\n",
    "student1={\"name\":\"Shruti\",\"age\":32,\"name\":\"Chinu\"}\n",
    "print(student1)"
   ]
  },
  {
   "cell_type": "code",
   "execution_count": 6,
   "id": "1bdce9c5",
   "metadata": {},
   "outputs": [
    {
     "name": "stdout",
     "output_type": "stream",
     "text": [
      "A\n",
      "A\n",
      "not available\n"
     ]
    }
   ],
   "source": [
    "#Accessing Dictionary elements\n",
    "print(student[\"garde\"])\n",
    "\n",
    "#Accessing using get() method\n",
    "\n",
    "print(student.get(\"garde\"))\n",
    "print(student.get(\"last_name\",\"not available\"))"
   ]
  },
  {
   "cell_type": "code",
   "execution_count": 7,
   "id": "1422feaf",
   "metadata": {},
   "outputs": [
    {
     "name": "stdout",
     "output_type": "stream",
     "text": [
      "{'name': 'Shruti', 'age': 33, 'garde': 'A'}\n",
      "{'name': 'Shruti', 'age': 33, 'garde': 'A', 'address': 'India'}\n"
     ]
    }
   ],
   "source": [
    "#Modifying Dictionary elements\n",
    "\n",
    "student[\"age\"]=33\n",
    "print(student)\n",
    "\n",
    "student[\"address\"]=\"India\"\n",
    "print(student)"
   ]
  },
  {
   "cell_type": "code",
   "execution_count": 8,
   "id": "9a8180cd",
   "metadata": {},
   "outputs": [
    {
     "name": "stdout",
     "output_type": "stream",
     "text": [
      "{'age': 32}\n"
     ]
    }
   ],
   "source": [
    "#Delete Key\n",
    "\n",
    "del student1[\"name\"]\n",
    "print(student1)"
   ]
  },
  {
   "cell_type": "code",
   "execution_count": 10,
   "id": "e184d941",
   "metadata": {},
   "outputs": [
    {
     "name": "stdout",
     "output_type": "stream",
     "text": [
      "dict_keys(['name', 'age', 'garde', 'address'])\n",
      "dict_values(['Shruti', 33, 'A', 'India'])\n",
      "dict_items([('name', 'Shruti'), ('age', 33), ('garde', 'A'), ('address', 'India')])\n"
     ]
    }
   ],
   "source": [
    "#Dictionary Methods\n",
    "\n",
    "keys=student.keys()\n",
    "value=student.values()\n",
    "item=student.items()\n",
    "\n",
    "print(keys)\n",
    "print(value)\n",
    "print(item)"
   ]
  },
  {
   "cell_type": "code",
   "execution_count": 12,
   "id": "e93aac98",
   "metadata": {},
   "outputs": [
    {
     "name": "stdout",
     "output_type": "stream",
     "text": [
      "{'name': 'Shruti', 'age': 33, 'garde': 'A', 'address': 'India'}\n",
      "{'name': 'Shruti', 'age': 33, 'garde': 'A', 'address': 'India'}\n",
      "{'name': 'Shruti', 'age': 33, 'garde': 'A', 'address': 'India'}\n",
      "{'name': 'shruti1', 'age': 33, 'garde': 'A', 'address': 'India'}\n"
     ]
    }
   ],
   "source": [
    "#Shallow Copy \n",
    "\n",
    "student_copy=student.copy()\n",
    "print(student_copy)\n",
    "print(student)\n",
    "\n",
    "student[\"name\"]=\"shruti1\"\n",
    "print(student_copy)\n",
    "print(student)"
   ]
  },
  {
   "cell_type": "code",
   "execution_count": 15,
   "id": "a8ff66c3",
   "metadata": {},
   "outputs": [
    {
     "name": "stdout",
     "output_type": "stream",
     "text": [
      "name\n",
      "age\n",
      "garde\n",
      "address\n",
      "shruti1\n",
      "33\n",
      "A\n",
      "India\n",
      "name:shruti1\n",
      "age:33\n",
      "garde:A\n",
      "address:India\n"
     ]
    }
   ],
   "source": [
    "#Iterating over dictionaries\n",
    "\n",
    "#Iterating over keys\n",
    "for keys in student.keys():\n",
    "    print(keys)\n",
    "\n",
    "#Iterating over values\n",
    "for values in student.values():\n",
    "    print(values)\n",
    "\n",
    "#Iterating over keys and values pair\n",
    "for keys, values in student.items():\n",
    "    print(f\"{keys}:{values}\")"
   ]
  },
  {
   "cell_type": "code",
   "execution_count": 16,
   "id": "eff88a58",
   "metadata": {},
   "outputs": [
    {
     "name": "stdout",
     "output_type": "stream",
     "text": [
      "{'student1': {'name': 'Shruti', 'age': 22}, 'student2': {'name': 'Soham', 'age': 16}}\n"
     ]
    }
   ],
   "source": [
    "#Nested Dictionaries\n",
    "\n",
    "students_info={\n",
    "    \"student1\":{\"name\":\"Shruti\",\"age\":22},\n",
    "    \"student2\":{\"name\":\"Soham\",\"age\":16}\n",
    "}\n",
    "print(students_info)"
   ]
  },
  {
   "cell_type": "code",
   "execution_count": 17,
   "id": "f147d66d",
   "metadata": {},
   "outputs": [
    {
     "name": "stdout",
     "output_type": "stream",
     "text": [
      "Soham\n",
      "16\n"
     ]
    }
   ],
   "source": [
    "#Access nested dictionaries elements\n",
    "\n",
    "print(students_info[\"student2\"][\"name\"])\n",
    "print(students_info[\"student2\"][\"age\"])"
   ]
  },
  {
   "cell_type": "code",
   "execution_count": 8,
   "id": "03fb42be",
   "metadata": {},
   "outputs": [
    {
     "name": "stdout",
     "output_type": "stream",
     "text": [
      "Person ID: person1\n",
      "  name: Alice\n",
      "  age: 30\n",
      "  city: New York\n",
      "Person ID: person2\n",
      "  name: Bob\n",
      "  age: 25\n",
      "  city: London\n"
     ]
    }
   ],
   "source": [
    "#Iterating over nested dictionaries\n",
    "\n",
    "data = {\n",
    "    'person1': {'name': 'Alice', 'age': 30, 'city': 'New York'},\n",
    "    'person2': {'name': 'Bob', 'age': 25, 'city': 'London'}\n",
    "}\n",
    "\n",
    "for person_id, details in data.items():\n",
    "    print(f\"Person ID: {person_id}\")\n",
    "    for key, value in details.items():\n",
    "        print(f\"  {key}: {value}\")"
   ]
  },
  {
   "cell_type": "code",
   "execution_count": 9,
   "id": "d94613e4",
   "metadata": {},
   "outputs": [
    {
     "name": "stdout",
     "output_type": "stream",
     "text": [
      "{0: 0, 1: 1, 2: 4, 3: 9, 4: 16}\n"
     ]
    }
   ],
   "source": [
    "#Dictionary comphrehension\n",
    "\n",
    "squares={x:x**2 for x in range(5)}\n",
    "print(squares)"
   ]
  },
  {
   "cell_type": "code",
   "execution_count": 11,
   "id": "181a7b2a",
   "metadata": {},
   "outputs": [
    {
     "name": "stdout",
     "output_type": "stream",
     "text": [
      "{0: 0, 2: 4, 4: 16, 6: 36, 8: 64}\n"
     ]
    }
   ],
   "source": [
    "#Condition dictionary comprehension\n",
    "\n",
    "evens={x:x**2 for x in range (10) if x%2==0}\n",
    "print(evens)"
   ]
  },
  {
   "cell_type": "code",
   "execution_count": 13,
   "id": "e20d4fe7",
   "metadata": {},
   "outputs": [
    {
     "name": "stdout",
     "output_type": "stream",
     "text": [
      "{'a': 1, 'b': 3, 'c': 4}\n"
     ]
    }
   ],
   "source": [
    "#Merge 2 dictionaries into one\n",
    "\n",
    "dict1={\"a\":1,\"b\":2}\n",
    "dict2={\"b\":3,\"c\":4}\n",
    "merge_dict={**dict1,**dict2}\n",
    "print(merge_dict)"
   ]
  }
 ],
 "metadata": {
  "kernelspec": {
   "display_name": "Python 3",
   "language": "python",
   "name": "python3"
  },
  "language_info": {
   "codemirror_mode": {
    "name": "ipython",
    "version": 3
   },
   "file_extension": ".py",
   "mimetype": "text/x-python",
   "name": "python",
   "nbconvert_exporter": "python",
   "pygments_lexer": "ipython3",
   "version": "3.12.0"
  }
 },
 "nbformat": 4,
 "nbformat_minor": 5
}
