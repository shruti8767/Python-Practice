{
 "cells": [
  {
   "cell_type": "markdown",
   "id": "3ae6ee5d",
   "metadata": {},
   "source": [
    "# Encapsulation\n",
    "- Concept of wrapping data(variables) and Methods (Function) together as a single unit.\n",
    "- Restrict direct access which is a means of preventing accidental interference and misuse of the data.\n"
   ]
  },
  {
   "cell_type": "code",
   "execution_count": 4,
   "id": "47e0ad84",
   "metadata": {},
   "outputs": [
    {
     "name": "stdout",
     "output_type": "stream",
     "text": [
      "Shruti\n"
     ]
    }
   ],
   "source": [
    "### Encapsulation with getter and setter methods\n",
    "### Public, protected, private variables or access modifiers\n",
    "\n",
    "class Person:\n",
    "    def __init__(self,name,age):\n",
    "        self.name=name  #Public variable\n",
    "        self.age=age    #Public variable\n",
    "\n",
    "def get_name(person):\n",
    "    return person.name\n",
    "\n",
    "person=Person(\"Shruti\",21)\n",
    "print(person.name)"
   ]
  },
  {
   "cell_type": "code",
   "execution_count": 3,
   "id": "b9fa812c",
   "metadata": {},
   "outputs": [
    {
     "data": {
      "text/plain": [
       "['__class__',\n",
       " '__delattr__',\n",
       " '__dict__',\n",
       " '__dir__',\n",
       " '__doc__',\n",
       " '__eq__',\n",
       " '__format__',\n",
       " '__ge__',\n",
       " '__getattribute__',\n",
       " '__getstate__',\n",
       " '__gt__',\n",
       " '__hash__',\n",
       " '__init__',\n",
       " '__init_subclass__',\n",
       " '__le__',\n",
       " '__lt__',\n",
       " '__module__',\n",
       " '__ne__',\n",
       " '__new__',\n",
       " '__reduce__',\n",
       " '__reduce_ex__',\n",
       " '__repr__',\n",
       " '__setattr__',\n",
       " '__sizeof__',\n",
       " '__str__',\n",
       " '__subclasshook__',\n",
       " '__weakref__',\n",
       " 'age',\n",
       " 'name']"
      ]
     },
     "execution_count": 3,
     "metadata": {},
     "output_type": "execute_result"
    }
   ],
   "source": [
    "dir(person)"
   ]
  },
  {
   "cell_type": "code",
   "execution_count": 14,
   "id": "a14aad11",
   "metadata": {},
   "outputs": [],
   "source": [
    "class Person:\n",
    "    def __init__(self,name,age,gender):\n",
    "        self.__name=name  #private variable\n",
    "        self.__age=age    #private variable\n",
    "        self.gender=gender\n",
    "\n",
    "def get_name(person):\n",
    "    return person.__name\n",
    "\n",
    "person=Person(\"Shruti\",21,\"Female\")\n",
    "\n"
   ]
  },
  {
   "cell_type": "code",
   "execution_count": 13,
   "id": "12e2f30f",
   "metadata": {},
   "outputs": [
    {
     "name": "stdout",
     "output_type": "stream",
     "text": [
      "Shruti\n"
     ]
    }
   ],
   "source": [
    "class Person:\n",
    "    def __init__(self,name,age,gender):\n",
    "        self._name=name  #protected variable- only access in derived class\n",
    "        self._age=age    #protected variable\n",
    "        self.gender=gender\n",
    "\n",
    "class Employee(Person):\n",
    "    def __init__(self,name,age,gender):\n",
    "        super().__init__(name,age,gender)\n",
    "\n",
    "employee=Employee(\"Shruti\",21,\"Female\")\n",
    "print(employee._name)"
   ]
  },
  {
   "cell_type": "code",
   "execution_count": 17,
   "id": "58b654c5",
   "metadata": {},
   "outputs": [
    {
     "name": "stdout",
     "output_type": "stream",
     "text": [
      "shruti\n",
      "21\n",
      "24\n",
      "Age can not be negative\n"
     ]
    }
   ],
   "source": [
    "#Encapsulation with getter and setter\n",
    "\n",
    "class Person:\n",
    "    def __init__(self,name,age):\n",
    "        self.__name=name \n",
    "        self.__age=age\n",
    "\n",
    "    #getter method for name := retriving a data\n",
    "    def get_name(self):\n",
    "        return self.__name\n",
    "\n",
    "    #setter method for name := changing a data\n",
    "    def set_name(self,name):\n",
    "        self.__name=name\n",
    "\n",
    "    #getter method for age\n",
    "    def get_age(self):\n",
    "        return self.__age\n",
    "\n",
    "    #setter method for age\n",
    "    def set_age(self,age):\n",
    "        if age>0:\n",
    "            self.__age=age\n",
    "        else:\n",
    "            print(\"Age can not be negative\")\n",
    "\n",
    "person=Person(\"shruti\",21)\n",
    "\n",
    "#Access and modify private variable using getter and setter \n",
    "\n",
    "print(person.get_name())\n",
    "print(person.get_age())\n",
    "\n",
    "person.set_age(24)\n",
    "print(person.get_age())\n",
    "\n",
    "person.set_age(-4)\n",
    "\n"
   ]
  }
 ],
 "metadata": {
  "kernelspec": {
   "display_name": "Python 3",
   "language": "python",
   "name": "python3"
  },
  "language_info": {
   "codemirror_mode": {
    "name": "ipython",
    "version": 3
   },
   "file_extension": ".py",
   "mimetype": "text/x-python",
   "name": "python",
   "nbconvert_exporter": "python",
   "pygments_lexer": "ipython3",
   "version": "3.12.0"
  }
 },
 "nbformat": 4,
 "nbformat_minor": 5
}
