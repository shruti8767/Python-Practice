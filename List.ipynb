{
 "cells": [
  {
   "cell_type": "markdown",
   "id": "8e95b24e",
   "metadata": {},
   "source": [
    "Lists"
   ]
  },
  {
   "cell_type": "code",
   "execution_count": 1,
   "id": "9b27807d",
   "metadata": {},
   "outputs": [
    {
     "name": "stdout",
     "output_type": "stream",
     "text": [
      "['Shruti', 2, True, 3.14]\n"
     ]
    }
   ],
   "source": [
    "## Creating List\n",
    "\n",
    "lst=[\"Shruti\",2,True,3.14]\n",
    "print(lst)"
   ]
  },
  {
   "cell_type": "code",
   "execution_count": 22,
   "id": "ed43900e",
   "metadata": {},
   "outputs": [
    {
     "name": "stdout",
     "output_type": "stream",
     "text": [
      "Banana\n",
      "gauva\n",
      "['Banana', 'kiwi', 'Cherry', 'gauva']\n",
      "['Apple', 'Banana', 'kiwi']\n",
      "['Banana', 'kiwi', 'Cherry']\n",
      "['Apple', 'Banana', 'kiwi']\n"
     ]
    }
   ],
   "source": [
    "##Accessing list elements\n",
    "\n",
    "fruits=[\"Apple\",\"Banana\",\"kiwi\",\"Cherry\",\"gauva\"]\n",
    "print(fruits[1])\n",
    "print(fruits[-1])\n",
    "print(fruits[1:])\n",
    "print(fruits[:-2])\n",
    "print(fruits[1:4])\n",
    "print(fruits[-5:-2])"
   ]
  },
  {
   "cell_type": "code",
   "execution_count": 23,
   "id": "fddf2fcd",
   "metadata": {},
   "outputs": [
    {
     "name": "stdout",
     "output_type": "stream",
     "text": [
      "['Apple', 'watermelon', 'kiwi', 'Cherry', 'gauva']\n"
     ]
    }
   ],
   "source": [
    "#Modifying the list elements\n",
    "\n",
    "fruits[1]=\"watermelon\"\n",
    "print(fruits)"
   ]
  },
  {
   "cell_type": "markdown",
   "id": "da52d993",
   "metadata": {},
   "source": [
    "List Methods:- append,\n",
    "               insert,\n",
    "               remove,\n",
    "               pop,\n",
    "               index,\n",
    "               count,\n",
    "               sort,\n",
    "               reverse,\n",
    "               clear"
   ]
  },
  {
   "cell_type": "code",
   "execution_count": 24,
   "id": "42e72781",
   "metadata": {},
   "outputs": [
    {
     "name": "stdout",
     "output_type": "stream",
     "text": [
      "['Apple', 'watermelon', 'kiwi', 'Cherry', 'gauva', 'orange']\n"
     ]
    }
   ],
   "source": [
    "#Append method\n",
    "\n",
    "fruits.append(\"orange\")\n",
    "print(fruits)"
   ]
  },
  {
   "cell_type": "code",
   "execution_count": null,
   "id": "59a4b152",
   "metadata": {},
   "outputs": [
    {
     "name": "stdout",
     "output_type": "stream",
     "text": [
      "['Apple', 'watermelon', 'watermelon', 'kiwi', 'Cherry', 'gauva', 'orange']\n"
     ]
    }
   ],
   "source": [
    "#insert method\n",
    "fruits.insert(1,\"watermelon\")\n",
    "print(fruits)"
   ]
  },
  {
   "cell_type": "code",
   "execution_count": null,
   "id": "62bc6f96",
   "metadata": {},
   "outputs": [
    {
     "name": "stdout",
     "output_type": "stream",
     "text": [
      "['Apple', 'watermelon', 'kiwi', 'Cherry', 'gauva', 'orange']\n"
     ]
    }
   ],
   "source": [
    "#remove method\n",
    "fruits.remove(\"watermelon\")\n",
    "print(fruits)"
   ]
  },
  {
   "cell_type": "code",
   "execution_count": 28,
   "id": "eec494d8",
   "metadata": {},
   "outputs": [
    {
     "name": "stdout",
     "output_type": "stream",
     "text": [
      "gauva\n",
      "['Apple', 'watermelon', 'kiwi', 'Cherry']\n"
     ]
    }
   ],
   "source": [
    "#pop method\n",
    "fruit_pop=fruits.pop()\n",
    "print(fruit_pop)\n",
    "print(fruits)"
   ]
  },
  {
   "cell_type": "code",
   "execution_count": 31,
   "id": "34363c5c",
   "metadata": {},
   "outputs": [
    {
     "name": "stdout",
     "output_type": "stream",
     "text": [
      "3\n"
     ]
    }
   ],
   "source": [
    "#index method\n",
    "print(fruits.index(\"Cherry\"))"
   ]
  },
  {
   "cell_type": "code",
   "execution_count": null,
   "id": "11f1ac02",
   "metadata": {},
   "outputs": [
    {
     "name": "stdout",
     "output_type": "stream",
     "text": [
      "3\n"
     ]
    }
   ],
   "source": [
    "#count method\n",
    "print(fruits.count(\"kiwi\"))"
   ]
  },
  {
   "cell_type": "code",
   "execution_count": 39,
   "id": "7950e64f",
   "metadata": {},
   "outputs": [
    {
     "name": "stdout",
     "output_type": "stream",
     "text": [
      "['Apple', 'Cherry', 'kiwi', 'kiwi', 'kiwi', 'watermelon']\n"
     ]
    }
   ],
   "source": [
    "#sort method\n",
    "fruits.sort()\n",
    "print(fruits)"
   ]
  },
  {
   "cell_type": "code",
   "execution_count": 40,
   "id": "54abccb7",
   "metadata": {},
   "outputs": [
    {
     "name": "stdout",
     "output_type": "stream",
     "text": [
      "['watermelon', 'kiwi', 'kiwi', 'kiwi', 'Cherry', 'Apple']\n"
     ]
    }
   ],
   "source": [
    "#reverse method\n",
    "fruits.reverse()\n",
    "print(fruits)"
   ]
  },
  {
   "cell_type": "code",
   "execution_count": 41,
   "id": "817bbe3c",
   "metadata": {},
   "outputs": [],
   "source": [
    "#Clear method\n",
    "fruits.clear()"
   ]
  },
  {
   "cell_type": "markdown",
   "id": "8e762e43",
   "metadata": {},
   "source": [
    "* Slicing List"
   ]
  },
  {
   "cell_type": "code",
   "execution_count": 44,
   "id": "38829b3f",
   "metadata": {},
   "outputs": [
    {
     "name": "stdout",
     "output_type": "stream",
     "text": [
      "[3, 4, 5]\n",
      "[1, 2, 3, 4, 5]\n",
      "[6, 7, 8, 9, 10]\n",
      "[3, 5]\n",
      "[10, 9, 8, 7, 6, 5, 4, 3, 2, 1]\n"
     ]
    }
   ],
   "source": [
    "numbers=[1,2,3,4,5,6,7,8,9,10]\n",
    "print(numbers[2:5])\n",
    "print(numbers[:5])\n",
    "print(numbers[5:])\n",
    "print(numbers[2:6:2])\n",
    "print(numbers[::-1])"
   ]
  },
  {
   "cell_type": "markdown",
   "id": "245afb1d",
   "metadata": {},
   "source": [
    "* Interating over the list"
   ]
  },
  {
   "cell_type": "code",
   "execution_count": 46,
   "id": "24b934b3",
   "metadata": {},
   "outputs": [
    {
     "name": "stdout",
     "output_type": "stream",
     "text": [
      "1\n",
      "2\n",
      "3\n",
      "4\n",
      "5\n",
      "6\n",
      "7\n",
      "8\n",
      "9\n",
      "10\n"
     ]
    }
   ],
   "source": [
    "for number in numbers:\n",
    "    print(number)"
   ]
  },
  {
   "cell_type": "code",
   "execution_count": 48,
   "id": "ecc8f116",
   "metadata": {},
   "outputs": [
    {
     "name": "stdout",
     "output_type": "stream",
     "text": [
      "0 1\n",
      "1 2\n",
      "2 3\n",
      "3 4\n",
      "4 5\n",
      "5 6\n",
      "6 7\n",
      "7 8\n",
      "8 9\n",
      "9 10\n"
     ]
    }
   ],
   "source": [
    "#Iterating with index\n",
    "\n",
    "for index, number in enumerate(numbers):\n",
    "    print(index, number)"
   ]
  },
  {
   "cell_type": "markdown",
   "id": "b3e8f0ec",
   "metadata": {},
   "source": [
    "* List Comprehension"
   ]
  },
  {
   "cell_type": "code",
   "execution_count": null,
   "id": "66d0281b",
   "metadata": {},
   "outputs": [
    {
     "name": "stdout",
     "output_type": "stream",
     "text": [
      "[0, 1, 16, 81, 256, 625, 1296, 2401, 4096, 6561]\n"
     ]
    }
   ],
   "source": [
    "#normal way\n",
    "'''lst1=[]\n",
    "for x in range(10):\n",
    "    lst1.append(x**2)\n",
    "print(lst1)'''\n",
    "\n",
    "#List comprehension basic way\n",
    "print([x**2 for x in range(10)])\n"
   ]
  },
  {
   "cell_type": "code",
   "execution_count": 53,
   "id": "0799e453",
   "metadata": {},
   "outputs": [
    {
     "name": "stdout",
     "output_type": "stream",
     "text": [
      "[0, 2, 4, 6, 8]\n"
     ]
    }
   ],
   "source": [
    "#With conditional logic\n",
    "print([num for num in range(10) if num%2==0])"
   ]
  },
  {
   "cell_type": "code",
   "execution_count": 55,
   "id": "5e4f01e4",
   "metadata": {},
   "outputs": [
    {
     "name": "stdout",
     "output_type": "stream",
     "text": [
      "[[1, 'a'], [1, 'b'], [1, 'c'], [1, 'd'], [2, 'a'], [2, 'b'], [2, 'c'], [2, 'd'], [3, 'a'], [3, 'b'], [3, 'c'], [3, 'd'], [4, 'a'], [4, 'b'], [4, 'c'], [4, 'd'], [5, 'a'], [5, 'b'], [5, 'c'], [5, 'd']]\n"
     ]
    }
   ],
   "source": [
    "#Nested list comprehension\n",
    "a=[1,2,3,4,5]\n",
    "b=['a','b','c','d']\n",
    "pair=[[i,j] for i in a for j in b]\n",
    "print(pair)"
   ]
  },
  {
   "cell_type": "code",
   "execution_count": 56,
   "id": "1b94ba10",
   "metadata": {},
   "outputs": [
    {
     "name": "stdout",
     "output_type": "stream",
     "text": [
      "[5, 5, 6, 4, 13]\n"
     ]
    }
   ],
   "source": [
    "#with function call\n",
    "words=[\"hello\",\"world\",\"python\",\"list\",\"comprehension\"]\n",
    "length=[len(word) for word in words]\n",
    "print(length)"
   ]
  }
 ],
 "metadata": {
  "kernelspec": {
   "display_name": "Python 3",
   "language": "python",
   "name": "python3"
  },
  "language_info": {
   "codemirror_mode": {
    "name": "ipython",
    "version": 3
   },
   "file_extension": ".py",
   "mimetype": "text/x-python",
   "name": "python",
   "nbconvert_exporter": "python",
   "pygments_lexer": "ipython3",
   "version": "3.12.0"
  }
 },
 "nbformat": 4,
 "nbformat_minor": 5
}
