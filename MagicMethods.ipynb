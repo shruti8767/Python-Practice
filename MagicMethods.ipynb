{
 "cells": [
  {
   "cell_type": "markdown",
   "id": "f0509aec",
   "metadata": {},
   "source": [
    "# Magic Methods (Dunder methods)\n",
    "- Predefine method\n",
    "- double underscore methods\n",
    "- Special methods that start and end with double underscore.\n",
    "- you can override to change the behavior of object\n",
    "- Methods enable to define the behavior of object for bulit in operation such as arithmetic, comparison and more.\n",
    "- Some common magic method includes:-\n",
    "1. init- Initializes a new instance of a class.\n",
    "2. str- Return a string representation of an object\n",
    "3. repr- Return an official string representaion of an object\n",
    "4. len- Return the length of an object\n",
    "5. getitem- Gets an item from a container\n",
    "6. setitem- sets an item from a container\n"
   ]
  },
  {
   "cell_type": "code",
   "execution_count": 2,
   "id": "7e691b7f",
   "metadata": {},
   "outputs": [
    {
     "name": "stdout",
     "output_type": "stream",
     "text": [
      "Shruti,21 years old\n",
      "Shruti,21 years old\n",
      "Person (name=Shruti,age=21)\n"
     ]
    }
   ],
   "source": [
    "#Basics Methods\n",
    "\n",
    "class Person:\n",
    "    def __init__(self,name,age):\n",
    "        self.name=name\n",
    "        self.age=age\n",
    "    def __str__(self):\n",
    "        return f\"{self.name},{self.age} years old\"\n",
    "    def __repr__(self):\n",
    "        return f\"Person (name={self.name},age={self.age})\"\n",
    "\n",
    "person= Person(\"Shruti\",21)\n",
    "print(person)\n",
    "\n",
    "print(str(person))\n",
    "print(repr(person))"
   ]
  }
 ],
 "metadata": {
  "kernelspec": {
   "display_name": "Python 3",
   "language": "python",
   "name": "python3"
  },
  "language_info": {
   "codemirror_mode": {
    "name": "ipython",
    "version": 3
   },
   "file_extension": ".py",
   "mimetype": "text/x-python",
   "name": "python",
   "nbconvert_exporter": "python",
   "pygments_lexer": "ipython3",
   "version": "3.12.0"
  }
 },
 "nbformat": 4,
 "nbformat_minor": 5
}
