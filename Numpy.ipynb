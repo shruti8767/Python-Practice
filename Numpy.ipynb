{
 "cells": [
  {
   "cell_type": "markdown",
   "id": "5e454aee",
   "metadata": {},
   "source": [
    "# Numpy\n",
    "\n",
    "NumPy is a fundamental library for scientific computing is python . It provides support for arrays and matrices, along with a collection of mathematical function to operate on these data structure . In this lesson , we will cover the basics of Numpy, focusing on arrays and vectorized operations."
   ]
  },
  {
   "cell_type": "code",
   "execution_count": 2,
   "id": "343af143",
   "metadata": {},
   "outputs": [
    {
     "name": "stdout",
     "output_type": "stream",
     "text": [
      "Requirement already satisfied: numpy in d:\\data engineer\\python\\venv\\lib\\site-packages (2.3.2)\n",
      "Note: you may need to restart the kernel to use updated packages.\n"
     ]
    }
   ],
   "source": [
    "pip install numpy"
   ]
  },
  {
   "cell_type": "code",
   "execution_count": 3,
   "id": "5da1321c",
   "metadata": {},
   "outputs": [
    {
     "name": "stdout",
     "output_type": "stream",
     "text": [
      "[1 2 3 4 5]\n",
      "<class 'numpy.ndarray'>\n",
      "(5,)\n"
     ]
    }
   ],
   "source": [
    "import numpy as np\n",
    "\n",
    "#create array using numpy\n",
    "#create a 1D array\n",
    "arr1=np.array([1,2,3,4,5])\n",
    "print(arr1)\n",
    "print(type(arr1))\n",
    "print(arr1.shape)"
   ]
  },
  {
   "cell_type": "code",
   "execution_count": 4,
   "id": "7b80a828",
   "metadata": {},
   "outputs": [
    {
     "data": {
      "text/plain": [
       "array([[1, 2, 3, 4, 5]])"
      ]
     },
     "execution_count": 4,
     "metadata": {},
     "output_type": "execute_result"
    }
   ],
   "source": [
    "#1D array\n",
    "arr2=np.array([1,2,3,4,5])\n",
    "arr2.reshape(1,5) ##1 row and 5 columns"
   ]
  },
  {
   "cell_type": "code",
   "execution_count": 5,
   "id": "c31bdc0c",
   "metadata": {},
   "outputs": [
    {
     "data": {
      "text/plain": [
       "(1, 5)"
      ]
     },
     "execution_count": 5,
     "metadata": {},
     "output_type": "execute_result"
    }
   ],
   "source": [
    "arr2=np.array([[1,2,3,4,5]])\n",
    "arr2.shape"
   ]
  },
  {
   "cell_type": "code",
   "execution_count": 6,
   "id": "d92854f0",
   "metadata": {},
   "outputs": [
    {
     "name": "stdout",
     "output_type": "stream",
     "text": [
      "[[ 1  2  3  4  5]\n",
      " [ 6  7  8  9 10]]\n",
      "(2, 5)\n"
     ]
    }
   ],
   "source": [
    "#2D array\n",
    "arr2=np.array([[1,2,3,4,5],[6,7,8,9,10]])\n",
    "print(arr2)\n",
    "print(arr2.shape)"
   ]
  },
  {
   "cell_type": "code",
   "execution_count": 7,
   "id": "13a3e5cd",
   "metadata": {},
   "outputs": [
    {
     "data": {
      "text/plain": [
       "array([[0],\n",
       "       [2],\n",
       "       [4],\n",
       "       [6],\n",
       "       [8]])"
      ]
     },
     "execution_count": 7,
     "metadata": {},
     "output_type": "execute_result"
    }
   ],
   "source": [
    "np.arange(0,10,2).reshape(5,1)"
   ]
  },
  {
   "cell_type": "code",
   "execution_count": 8,
   "id": "f1c06c64",
   "metadata": {},
   "outputs": [
    {
     "data": {
      "text/plain": [
       "array([[1., 1., 1., 1.],\n",
       "       [1., 1., 1., 1.]])"
      ]
     },
     "execution_count": 8,
     "metadata": {},
     "output_type": "execute_result"
    }
   ],
   "source": [
    "np.ones((2,4)) # deep learning used this function "
   ]
  },
  {
   "cell_type": "code",
   "execution_count": 9,
   "id": "98a7de69",
   "metadata": {},
   "outputs": [
    {
     "data": {
      "text/plain": [
       "array([[1., 0., 0.],\n",
       "       [0., 1., 0.],\n",
       "       [0., 0., 1.]])"
      ]
     },
     "execution_count": 9,
     "metadata": {},
     "output_type": "execute_result"
    }
   ],
   "source": [
    "#Identity matrix\n",
    "\n",
    "np.eye(3,3)"
   ]
  },
  {
   "cell_type": "code",
   "execution_count": null,
   "id": "f79e8be8",
   "metadata": {},
   "outputs": [
    {
     "name": "stdout",
     "output_type": "stream",
     "text": [
      "Array:\n",
      " [[1 2 3]\n",
      " [4 5 6]]\n",
      "Shape: (2, 3)\n",
      "Number of dimension: 2\n",
      "Size(number of elements): 6\n",
      "Data type: int64\n",
      "Item size(in bytes): 8\n"
     ]
    }
   ],
   "source": [
    "#Attributes of numpy\n",
    "arr=np.array([[1,2,3],[4,5,6]])\n",
    "\n",
    "print('Array:\\n',arr)\n",
    "print('Shape:',arr.shape)\n",
    "print('Number of dimension:',arr.ndim)\n",
    "print('Size(number of elements):',arr.size)\n",
    "print('Data type:',arr.dtype)\n",
    "print('Item size(in bytes):',arr.itemsize)"
   ]
  },
  {
   "cell_type": "code",
   "execution_count": 11,
   "id": "344506f3",
   "metadata": {},
   "outputs": [
    {
     "name": "stdout",
     "output_type": "stream",
     "text": [
      "Addition: [25 91 15 73 13]\n",
      "Substraction: [ -1 -83  -3 -59   3]\n",
      "Multiplication: [156 348  54 462  40]\n",
      "Division: [0.92307692 0.04597701 0.66666667 0.10606061 1.6       ]\n"
     ]
    }
   ],
   "source": [
    "#Numpy Vectorized operation\n",
    "\n",
    "arr1=np.array([12,4,6,7,8])\n",
    "arr2=np.array([13,87,9,66,5])\n",
    "\n",
    "#Elements wise addition\n",
    "print('Addition:',arr1+arr2)\n",
    "\n",
    "#Elements wise substraction\n",
    "print('Substraction:',arr1-arr2)\n",
    "\n",
    "#Elements wise Multiplication\n",
    "print('Multiplication:',arr1*arr2)\n",
    "\n",
    "#Elements wise Division\n",
    "print('Division:',arr1/arr2)"
   ]
  },
  {
   "cell_type": "code",
   "execution_count": 12,
   "id": "a0bfb9d4",
   "metadata": {},
   "outputs": [
    {
     "name": "stdout",
     "output_type": "stream",
     "text": [
      "[1.41421356 1.73205081 2.23606798 2.44948974 2.82842712]\n",
      "[   7.3890561    20.08553692  148.4131591   403.42879349 2980.95798704]\n",
      "[ 0.90929743  0.14112001 -0.95892427 -0.2794155   0.98935825]\n",
      "<ufunc 'log'>\n"
     ]
    }
   ],
   "source": [
    "#Universal Function\n",
    "\n",
    "arr=np.array([2,3,5,6,8])\n",
    "\n",
    "#Square root\n",
    "print(np.sqrt(arr))\n",
    "\n",
    "#exponential\n",
    "print(np.exp(arr))\n",
    "\n",
    "#Sine\n",
    "print(np.sin(arr))\n",
    "\n",
    "#Natural log\n",
    "print(np.log)"
   ]
  },
  {
   "cell_type": "code",
   "execution_count": 13,
   "id": "8f83b781",
   "metadata": {},
   "outputs": [
    {
     "name": "stdout",
     "output_type": "stream",
     "text": [
      "Array:\n",
      " [[ 1  2  3  4]\n",
      " [ 5  6  7  8]\n",
      " [ 9 10 11 12]]\n"
     ]
    }
   ],
   "source": [
    "#Array slicing and Indexing\n",
    "\n",
    "arr=np.array([[1,2,3,4],[5,6,7,8],[9,10,11,12]])\n",
    "print(\"Array:\\n\",arr)"
   ]
  },
  {
   "cell_type": "code",
   "execution_count": 20,
   "id": "bdd04a6c",
   "metadata": {},
   "outputs": [
    {
     "name": "stdout",
     "output_type": "stream",
     "text": [
      "1\n",
      "3\n",
      "[[3 4]\n",
      " [7 8]]\n",
      "[[ 7  8]\n",
      " [11 12]]\n",
      "[[3 4]]\n"
     ]
    }
   ],
   "source": [
    "print(arr[0][0])\n",
    "print(arr[0][2])\n",
    "print(arr[0:2,2:])\n",
    "print(arr[1:,2:])\n",
    "print(arr[0:1,2:])"
   ]
  },
  {
   "cell_type": "code",
   "execution_count": 22,
   "id": "ed43bd8f",
   "metadata": {},
   "outputs": [
    {
     "name": "stdout",
     "output_type": "stream",
     "text": [
      "[[100   2   3   4]\n",
      " [  5   6   7   8]\n",
      " [  9  10  11  12]]\n"
     ]
    }
   ],
   "source": [
    "#Modify array elements\n",
    "arr[0,0]=100\n",
    "print(arr)"
   ]
  },
  {
   "cell_type": "code",
   "execution_count": 23,
   "id": "003ea48a",
   "metadata": {},
   "outputs": [
    {
     "name": "stdout",
     "output_type": "stream",
     "text": [
      "[[100   2   3   4]\n",
      " [100 100 100 100]\n",
      " [100 100 100 100]]\n"
     ]
    }
   ],
   "source": [
    "arr[1:]=100\n",
    "print(arr)"
   ]
  },
  {
   "cell_type": "markdown",
   "id": "31ce7aa9",
   "metadata": {},
   "source": [
    "# Statistical concept- Normalization\n",
    "To have a mean of 0 and standard deviation of 1\n"
   ]
  },
  {
   "cell_type": "code",
   "execution_count": 24,
   "id": "15012a70",
   "metadata": {},
   "outputs": [
    {
     "name": "stdout",
     "output_type": "stream",
     "text": [
      "Normalized data: [-1.41421356 -0.70710678  0.          0.70710678  1.41421356]\n"
     ]
    }
   ],
   "source": [
    "data=np.array([1,2,3,4,5])\n",
    "#Calculate the mean and standard deviation\n",
    "mean=np.mean(data)\n",
    "std_dev=np.std(data)\n",
    "\n",
    "#Normalization the data\n",
    "normalized_data=(data-mean)/std_dev\n",
    "print(\"Normalized data:\",normalized_data)\n"
   ]
  },
  {
   "cell_type": "code",
   "execution_count": 25,
   "id": "b31c2a1b",
   "metadata": {},
   "outputs": [
    {
     "name": "stdout",
     "output_type": "stream",
     "text": [
      "mean: 5.5\n",
      "median: 5.5\n",
      "standard deviation: 2.8722813232690143\n",
      "variance: 8.25\n"
     ]
    }
   ],
   "source": [
    "data=np.array([1,2,3,4,5,6,7,8,9,10])\n",
    "\n",
    "#Mean\n",
    "mean=np.mean(data)\n",
    "print(\"mean:\",mean)\n",
    "\n",
    "#median\n",
    "median=np.median(data)\n",
    "print('median:',median)\n",
    "\n",
    "#standard deviation\n",
    "std_dev=np.std(data)\n",
    "print(\"standard deviation:\",std_dev)\n",
    "\n",
    "#variance\n",
    "variance=np.var(data)\n",
    "print(\"variance:\",variance)"
   ]
  },
  {
   "cell_type": "code",
   "execution_count": 31,
   "id": "6b6fe193",
   "metadata": {},
   "outputs": [
    {
     "data": {
      "text/plain": [
       "array([8, 5, 8])"
      ]
     },
     "execution_count": 31,
     "metadata": {},
     "output_type": "execute_result"
    }
   ],
   "source": [
    "#Logical operation\n",
    "data=np.array([1,2,8,4,5,3,8,9,10])\n",
    "\n",
    "data>3\n",
    "data[(data>=5) & (data<=8)]"
   ]
  }
 ],
 "metadata": {
  "kernelspec": {
   "display_name": "Python 3",
   "language": "python",
   "name": "python3"
  },
  "language_info": {
   "codemirror_mode": {
    "name": "ipython",
    "version": 3
   },
   "file_extension": ".py",
   "mimetype": "text/x-python",
   "name": "python",
   "nbconvert_exporter": "python",
   "pygments_lexer": "ipython3",
   "version": "3.12.0"
  }
 },
 "nbformat": 4,
 "nbformat_minor": 5
}
