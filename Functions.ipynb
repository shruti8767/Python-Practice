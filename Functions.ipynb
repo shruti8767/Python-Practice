{
 "cells": [
  {
   "cell_type": "markdown",
   "id": "c91d344f",
   "metadata": {},
   "source": [
    "* Functions\n"
   ]
  },
  {
   "cell_type": "code",
   "execution_count": 6,
   "id": "1e6a002a",
   "metadata": {},
   "outputs": [
    {
     "name": "stdout",
     "output_type": "stream",
     "text": [
      "22 is  even\n"
     ]
    }
   ],
   "source": [
    "#Creating Function \n",
    "\n",
    "def even_odd(num):\n",
    "    \"\"\"Check no is even or odd\"\"\"\n",
    "    if num % 2==0:\n",
    "        print(f\"{num} is  even\")\n",
    "    else:\n",
    "        print(f\"{num} is odd\")\n",
    "\n",
    "#Call this function\n",
    "\n",
    "even_odd(22)"
   ]
  },
  {
   "cell_type": "code",
   "execution_count": 7,
   "id": "d4847137",
   "metadata": {},
   "outputs": [
    {
     "name": "stdout",
     "output_type": "stream",
     "text": [
      "7\n"
     ]
    }
   ],
   "source": [
    "#Function with multiple parameters\n",
    "\n",
    "def add(a,b,c):\n",
    "    \"\"\"Addition\"\"\"\n",
    "    return a+b+c\n",
    "\n",
    "# call this function\n",
    "print(add(2,4,1))"
   ]
  },
  {
   "cell_type": "code",
   "execution_count": 8,
   "id": "9df202cc",
   "metadata": {},
   "outputs": [
    {
     "name": "stdout",
     "output_type": "stream",
     "text": [
      "Hello Guest\n",
      "Hello Shruti\n"
     ]
    }
   ],
   "source": [
    "#Default parameters\n",
    "\n",
    "def greet(name=\"Guest\"):\n",
    "    print(f\"Hello {name}\")\n",
    "greet()\n",
    "greet(\"Shruti\")"
   ]
  },
  {
   "cell_type": "markdown",
   "id": "4fbd3a66",
   "metadata": {},
   "source": [
    "* Variable length arguments"
   ]
  },
  {
   "cell_type": "code",
   "execution_count": 16,
   "id": "aa184836",
   "metadata": {},
   "outputs": [
    {
     "name": "stdout",
     "output_type": "stream",
     "text": [
      "1\n",
      "2\n",
      "3\n",
      "4\n",
      "5\n",
      "6\n",
      "Shruti\n"
     ]
    }
   ],
   "source": [
    "# Positional arguments\n",
    "\n",
    "def print_numbers(*args):\n",
    "    for number in args:\n",
    "        print(number)\n",
    "print_numbers(1,2,3,4,5,6,\"Shruti\")"
   ]
  },
  {
   "cell_type": "code",
   "execution_count": 17,
   "id": "00abb072",
   "metadata": {},
   "outputs": [
    {
     "name": "stdout",
     "output_type": "stream",
     "text": [
      "name:Shruti\n",
      "age:22\n",
      "country:India\n"
     ]
    }
   ],
   "source": [
    "# Keyword arguments\n",
    "\n",
    "def print_details(**kwargs):\n",
    "    for key, value in kwargs.items():\n",
    "        print(f\"{key}:{value}\")\n",
    "\n",
    "print_details(name=\"Shruti\",age=\"22\",country=\"India\")"
   ]
  },
  {
   "cell_type": "code",
   "execution_count": 19,
   "id": "cb02b17e",
   "metadata": {},
   "outputs": [
    {
     "name": "stdout",
     "output_type": "stream",
     "text": [
      "Positional Args:1\n",
      "Positional Args:2\n",
      "Positional Args:3\n",
      "Positional Args:4\n",
      "Positional Args:Shruti\n",
      "name:Shruti\n",
      "age:22\n",
      "country:India\n"
     ]
    }
   ],
   "source": [
    "#Combine Both \n",
    "\n",
    "def print_details(*args,**kwargs):\n",
    "    for val in args:\n",
    "        print(f\"Positional Args:{val}\")\n",
    "\n",
    "    for key, value in kwargs.items():\n",
    "        print(f\"{key}:{value}\")\n",
    "\n",
    "print_details(1,2,3,4,\"Shruti\",name=\"Shruti\",age=\"22\",country=\"India\")"
   ]
  }
 ],
 "metadata": {
  "kernelspec": {
   "display_name": "Python 3",
   "language": "python",
   "name": "python3"
  },
  "language_info": {
   "codemirror_mode": {
    "name": "ipython",
    "version": 3
   },
   "file_extension": ".py",
   "mimetype": "text/x-python",
   "name": "python",
   "nbconvert_exporter": "python",
   "pygments_lexer": "ipython3",
   "version": "3.12.0"
  }
 },
 "nbformat": 4,
 "nbformat_minor": 5
}
